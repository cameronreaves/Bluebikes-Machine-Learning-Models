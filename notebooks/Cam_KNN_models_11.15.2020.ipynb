{
 "cells": [
  {
   "cell_type": "code",
   "execution_count": 1,
   "metadata": {},
   "outputs": [],
   "source": [
    "import numpy as np\n",
    "import pandas as pd\n",
    "import seaborn as sns\n",
    "import matplotlib\n",
    "import matplotlib.pyplot as plt\n",
    "%matplotlib inline\n",
    "\n",
    "from sklearn.metrics import r2_score\n",
    "from sklearn.metrics import mean_squared_error\n",
    "from sklearn.neighbors import KNeighborsClassifier,KNeighborsRegressor\n",
    "from sklearn.model_selection import cross_val_score\n",
    "from sklearn.metrics import accuracy_score\n",
    "from sklearn.model_selection import KFold,GridSearchCV\n",
    "from sklearn.preprocessing import MinMaxScaler,StandardScaler\n",
    "from sklearn.preprocessing import PolynomialFeatures\n",
    "from sklearn.model_selection import train_test_split\n",
    "from sklearn.metrics import roc_auc_score\n",
    "from sklearn.decomposition import PCA\n",
    "from imblearn.over_sampling import SMOTE"
   ]
  },
  {
   "cell_type": "code",
   "execution_count": 2,
   "metadata": {},
   "outputs": [],
   "source": [
    "data = pd.read_csv('../data/data.csv')\n",
    "workday = data[data['Hour'].between(8,18)]"
   ]
  },
  {
   "cell_type": "code",
   "execution_count": 3,
   "metadata": {},
   "outputs": [],
   "source": [
    "# Sets \n",
    "\n",
    "a1 = ['Month','utcivar1_cat','specialdate','weekend','precipitation_cat','Hour']\n",
    "a2 = ['Month','utcivar1','specialdate','weekend','precipitation_cat','Hour']\n",
    "b = ['Month','specialdate','weekend','precipitation_cat','Hour','DBT', 'RelHum', 'WSp']\n",
    "\n",
    "feature_sets = [a1,a2,b]\n",
    "targets = ['count','count_cat']"
   ]
  },
  {
   "cell_type": "code",
   "execution_count": 4,
   "metadata": {},
   "outputs": [],
   "source": [
    "# Functions \n",
    "\n",
    "def scale_split(features,target):\n",
    "    scaler = MinMaxScaler()\n",
    "    # Concerned whether each feature should be scaled at one time, but for now simple way\n",
    "    X = scaler.fit_transform(workday[features])\n",
    "    y = workday[target]\n",
    "    # Uses SMOTE for unbalanced classes\n",
    "    if target == 'count_cat':\n",
    "        X, y = SMOTE().fit_resample(X,y)\n",
    "\n",
    "    return train_test_split(X,y,train_size=0.7,random_state=43)\n",
    "\n",
    "def knn_regress(train_test):\n",
    "    X_train, X_test, y_train, y_test = train_test\n",
    "    ps = [1,2,3]\n",
    "    ns = np.arange(3,8)\n",
    "    parameters = {'n_neighbors':ns, 'p':ps}\n",
    "    knn = KNeighborsRegressor()\n",
    "    # All combinations grid search    \n",
    "    regress = GridSearchCV(knn, parameters).fit(X_train,y_train)\n",
    "    # Uses best model to predict on test set\n",
    "    test_pred = regress.best_estimator_.predict(X_test)\n",
    "    score = r2_score(y_test,test_pred)\n",
    "    mse = mean_squared_error(y_test,test_pred)\n",
    "    return (mse,score)\n",
    "\n",
    "def knn_clf(train_test):\n",
    "    X_train, X_test, y_train, y_test = train_test\n",
    "    # Hyper Parameter Sets\n",
    "    ps = [1]\n",
    "    ns = np.arange(3,4)\n",
    "    parameters = {'n_neighbors':ns, 'p':ps}\n",
    "    knn = KNeighborsClassifier()\n",
    "    # All combinations grid search\n",
    "    regress = GridSearchCV(knn, parameters).fit(X_train,y_train)\n",
    "    # Uses best model to predict on test set\n",
    "    test_pred = regress.best_estimator_.predict(X_test)\n",
    "    score = r2_score(y_test,test_pred)\n",
    "    acc = accuracy_score(y_test,test_pred)\n",
    "    return (acc,score)"
   ]
  },
  {
   "cell_type": "code",
   "execution_count": 5,
   "metadata": {},
   "outputs": [],
   "source": [
    "scores = []\n",
    "mses = []\n",
    "# KNN Regression \n",
    "for f_set in feature_sets:\n",
    "    train_test = scale_split(f_set,targets[0])\n",
    "    metric,score = knn_regress(train_test)\n",
    "    scores.append(score); mses.append(metric)"
   ]
  },
  {
   "cell_type": "code",
   "execution_count": 6,
   "metadata": {},
   "outputs": [],
   "source": [
    "scores = []\n",
    "accs = []\n",
    "# KNN Classifier \n",
    "for f_set in feature_sets:\n",
    "    train_test = scale_split(f_set,targets[1])\n",
    "    metric,score = knn_clf(train_test)\n",
    "    scores.append(score); accs.append(metric)"
   ]
  },
  {
   "cell_type": "code",
   "execution_count": 7,
   "metadata": {},
   "outputs": [
    {
     "data": {
      "image/png": "[encoded data removed]",
      "text/plain": [
       "<Figure size 1080x288 with 2 Axes>"
      ]
     },
     "metadata": {
      "needs_background": "light"
     },
     "output_type": "display_data"
    }
   ],
   "source": [
    "fig, axes = plt.subplots(1,2,figsize=(15,4))\n",
    "axes[0].bar(['a1','a2','b'],scores)\n",
    "axes[0].set_xlabel('Sets')\n",
    "axes[0].set_ylabel('R2')\n",
    "axes[1].bar(['a1','a2','b'],mses)\n",
    "axes[1].set_xlabel('Sets')\n",
    "axes[1].set_ylabel('MSE')\n",
    "plt.suptitle('KNN Regression');"
   ]
  },
  {
   "cell_type": "code",
   "execution_count": 8,
   "metadata": {},
   "outputs": [
    {
     "data": {
      "image/png": "[encoded data removed]",
      "text/plain": [
       "<Figure size 1080x288 with 2 Axes>"
      ]
     },
     "metadata": {
      "needs_background": "light"
     },
     "output_type": "display_data"
    }
   ],
   "source": [
    "fig, axes = plt.subplots(1,2,figsize=(15,4))\n",
    "axes[0].bar(['a1','a2','b'],scores)\n",
    "axes[0].set_xlabel('Sets')\n",
    "axes[0].set_ylabel('R2')\n",
    "axes[1].bar(['a1','a2','b'],accs)\n",
    "axes[1].set_xlabel('Sets')\n",
    "axes[1].set_ylabel('ACC')\n",
    "plt.suptitle('KNN Classifier');"
   ]
  }
 ],
 "metadata": {
  "kernelspec": {
   "display_name": "cs109a",
   "language": "python",
   "name": "cs109a"
  },
  "language_info": {
   "codemirror_mode": {
    "name": "ipython",
    "version": 3
   },
   "file_extension": ".py",
   "mimetype": "text/x-python",
   "name": "python",
   "nbconvert_exporter": "python",
   "pygments_lexer": "ipython3",
   "version": "3.7.8"
  }
 },
 "nbformat": 4,
 "nbformat_minor": 2
}

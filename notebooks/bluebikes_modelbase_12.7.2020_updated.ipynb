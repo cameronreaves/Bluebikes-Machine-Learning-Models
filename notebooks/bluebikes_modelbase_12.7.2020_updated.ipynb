{
 "cells": [
  {
   "cell_type": "code",
   "execution_count": 1,
   "metadata": {},
   "outputs": [],
   "source": [
    "import numpy as np\n",
    "import pandas as pd\n",
    "import seaborn as sns\n",
    "import matplotlib\n",
    "import matplotlib.pyplot as plt\n",
    "%matplotlib inline\n",
    "\n",
    "from sklearn.linear_model import LogisticRegression\n",
    "from sklearn.linear_model import LogisticRegressionCV\n",
    "from sklearn.linear_model import LinearRegression\n",
    "from sklearn.metrics import r2_score\n",
    "from sklearn.metrics import mean_squared_error\n",
    "\n",
    "from sklearn.model_selection import cross_val_score\n",
    "from sklearn.metrics import accuracy_score\n",
    "from sklearn.model_selection import KFold, RandomizedSearchCV\n",
    "from sklearn.preprocessing import MinMaxScaler\n",
    "from sklearn.preprocessing import PolynomialFeatures\n",
    "from sklearn.model_selection import train_test_split,cross_validate\n",
    "from sklearn import metrics\n",
    "from sklearn.decomposition import PCA\n",
    "\n",
    "# Cam added\n",
    "from sklearn.neighbors import KNeighborsClassifier\n",
    "from imblearn.over_sampling import SMOTE"
   ]
  },
  {
   "cell_type": "code",
   "execution_count": 2,
   "metadata": {},
   "outputs": [],
   "source": [
    "#import all 3 routes\n",
    "route1 = pd.read_csv('data_route1/route1processeddata.csv')\n",
    "route1['route'] = 1\n",
    "route2 = pd.read_csv('data_route2/route2processeddata.csv')\n",
    "route2['route'] = 2\n",
    "route3 = pd.read_csv('data_route3/route3processeddata.csv')\n",
    "route3['route'] = 3"
   ]
  },
  {
   "cell_type": "code",
   "execution_count": 3,
   "metadata": {},
   "outputs": [],
   "source": [
    "#combine all 3 routes\n",
    "df = pd.concat([route1,route2,route3],axis = 0)"
   ]
  },
  {
   "cell_type": "code",
   "execution_count": 4,
   "metadata": {},
   "outputs": [],
   "source": [
    "#filter for Dockability & Rideability\n",
    "df = df[df['Dockability']*df['Releasability'] == 1]\n",
    "#df.describe()"
   ]
  },
  {
   "cell_type": "code",
   "execution_count": 5,
   "metadata": {},
   "outputs": [],
   "source": [
    "#functions for creating categories\n",
    "def utcicat(row):\n",
    "    if row['utcivar1'] < -40:\n",
    "        val = -5\n",
    "    elif (-40 <= row['utcivar1'] and row['utcivar1'] <-27):\n",
    "        val = -4\n",
    "    elif (-27 <= row['utcivar1'] and row['utcivar1'] <-13):\n",
    "        val = -3 \n",
    "    elif (-13 <= row['utcivar1'] and row['utcivar1'] <0):\n",
    "        val = -2 \n",
    "    elif (0<= row['utcivar1'] and row['utcivar1'] <9):\n",
    "        val = -1\n",
    "    elif (9 <= row['utcivar1'] and row['utcivar1'] <26):\n",
    "        val = 0\n",
    "    elif (26 <= row['utcivar1'] and row['utcivar1'] <28):\n",
    "        val = 1 \n",
    "    elif (28 <= row['utcivar1'] and row['utcivar1'] <32):\n",
    "        val = 2\n",
    "    elif (32 <= row['utcivar1'] and row['utcivar1'] <38):\n",
    "        val = 3\n",
    "    elif (38 <= row['utcivar1'] and row['utcivar1'] <46):\n",
    "        val = 4\n",
    "    elif (row['utcivar1'] >= 46):\n",
    "        val = 5\n",
    "    return val\n",
    "\n",
    "def precipitationcat(row):\n",
    "    if row['Precipitation'] == 0:\n",
    "        val = 0\n",
    "    else:\n",
    "        val = 1\n",
    "    return val\n",
    "\n",
    "def hourcat(row):\n",
    "    if row['Hour'] <= 6: \n",
    "        val = 'midnight'\n",
    "    elif row['Hour'] <= 10: \n",
    "        val = 'morning'\n",
    "    elif row['Hour'] <= 13:\n",
    "        val = 'early_afternoon'\n",
    "    elif row['Hour'] <= 17:\n",
    "        val = 'late_afternoon'\n",
    "    elif row['Hour'] <= 23:\n",
    "        val = 'evening'\n",
    "    return val\n",
    "\n",
    "def countcat(row): \n",
    "    if row['count'] == 0: \n",
    "        val = 0 \n",
    "    elif row['count'] <= 2:\n",
    "        val = 1\n",
    "    elif row['count'] >= 3: \n",
    "        val = 2\n",
    "    return val\n",
    "\n",
    "def weekendcat(row):\n",
    "    year = str(int(row['Year']))\n",
    "    \n",
    "    month = int(row['Month'])\n",
    "    month = str((\"0\" if month < 10 else \"\")) + str(month)\n",
    "    \n",
    "    day = int(row['Day'])\n",
    "    day = str((\"0\" if day < 10 else \"\")) + str(day)\n",
    "    \n",
    "    hour = int(row['Hour'])\n",
    "    hour = str((\"0\" if hour < 10 else \"\")) + str(hour)\n",
    "    \n",
    "    inputstring = year + month + day + hour\n",
    "    datetime = pd.to_datetime(inputstring,format='%Y%m%d%H')\n",
    "    day = datetime.dayofweek\n",
    "    isWeekend = 1 if day > 4 else 0\n",
    "    return isWeekend\n",
    "    "
   ]
  },
  {
   "cell_type": "code",
   "execution_count": 6,
   "metadata": {
    "scrolled": false
   },
   "outputs": [],
   "source": [
    "#set up categorical predictors\n",
    "df['utcivar1_cat'] = df.apply(utcicat, axis=1)\n",
    "df['precipitation_cat'] = df.apply(precipitationcat, axis=1)\n",
    "df['hour_cat'] = df.apply(hourcat, axis=1)\n",
    "df['count_cat'] = df.apply(countcat, axis=1)\n",
    "df['weekend'] = df.apply(weekendcat, axis=1)"
   ]
  },
  {
   "cell_type": "code",
   "execution_count": 7,
   "metadata": {},
   "outputs": [
    {
     "data": {
      "text/html": [
       "<div>\n",
       "<style scoped>\n",
       "    .dataframe tbody tr th:only-of-type {\n",
       "        vertical-align: middle;\n",
       "    }\n",
       "\n",
       "    .dataframe tbody tr th {\n",
       "        vertical-align: top;\n",
       "    }\n",
       "\n",
       "    .dataframe thead th {\n",
       "        text-align: right;\n",
       "    }\n",
       "</style>\n",
       "<table border=\"1\" class=\"dataframe\">\n",
       "  <thead>\n",
       "    <tr style=\"text-align: right;\">\n",
       "      <th></th>\n",
       "      <th>Year</th>\n",
       "      <th>Month</th>\n",
       "      <th>Day</th>\n",
       "      <th>Hour</th>\n",
       "      <th>DBT</th>\n",
       "      <th>RelHum</th>\n",
       "      <th>WSp</th>\n",
       "      <th>Precipitation</th>\n",
       "      <th>Elev</th>\n",
       "      <th>utcivar1</th>\n",
       "      <th>utcivar2</th>\n",
       "      <th>utcivar3</th>\n",
       "      <th>count</th>\n",
       "      <th>specialdate</th>\n",
       "      <th>route</th>\n",
       "      <th>utcivar1_cat</th>\n",
       "      <th>precipitation_cat</th>\n",
       "      <th>hour_cat</th>\n",
       "      <th>count_cat</th>\n",
       "      <th>weekend</th>\n",
       "    </tr>\n",
       "  </thead>\n",
       "  <tbody>\n",
       "    <tr>\n",
       "      <th>2649</th>\n",
       "      <td>2017.0</td>\n",
       "      <td>4.0</td>\n",
       "      <td>21.0</td>\n",
       "      <td>9.0</td>\n",
       "      <td>6.7</td>\n",
       "      <td>100.0</td>\n",
       "      <td>7.7</td>\n",
       "      <td>0.0</td>\n",
       "      <td>52.392654</td>\n",
       "      <td>-5.488704</td>\n",
       "      <td>-9.169357</td>\n",
       "      <td>-9.233817</td>\n",
       "      <td>0.0</td>\n",
       "      <td>0</td>\n",
       "      <td>1</td>\n",
       "      <td>-2</td>\n",
       "      <td>0</td>\n",
       "      <td>morning</td>\n",
       "      <td>0</td>\n",
       "      <td>0</td>\n",
       "    </tr>\n",
       "    <tr>\n",
       "      <th>2650</th>\n",
       "      <td>2017.0</td>\n",
       "      <td>4.0</td>\n",
       "      <td>21.0</td>\n",
       "      <td>10.0</td>\n",
       "      <td>6.7</td>\n",
       "      <td>96.0</td>\n",
       "      <td>8.2</td>\n",
       "      <td>0.0</td>\n",
       "      <td>58.334083</td>\n",
       "      <td>-6.296706</td>\n",
       "      <td>-9.999895</td>\n",
       "      <td>-10.068702</td>\n",
       "      <td>1.0</td>\n",
       "      <td>0</td>\n",
       "      <td>1</td>\n",
       "      <td>-2</td>\n",
       "      <td>0</td>\n",
       "      <td>morning</td>\n",
       "      <td>1</td>\n",
       "      <td>0</td>\n",
       "    </tr>\n",
       "    <tr>\n",
       "      <th>2651</th>\n",
       "      <td>2017.0</td>\n",
       "      <td>4.0</td>\n",
       "      <td>21.0</td>\n",
       "      <td>11.0</td>\n",
       "      <td>7.2</td>\n",
       "      <td>97.0</td>\n",
       "      <td>7.2</td>\n",
       "      <td>0.0</td>\n",
       "      <td>59.503749</td>\n",
       "      <td>-3.105039</td>\n",
       "      <td>-6.808441</td>\n",
       "      <td>-6.900785</td>\n",
       "      <td>0.0</td>\n",
       "      <td>0</td>\n",
       "      <td>1</td>\n",
       "      <td>-2</td>\n",
       "      <td>0</td>\n",
       "      <td>early_afternoon</td>\n",
       "      <td>0</td>\n",
       "      <td>0</td>\n",
       "    </tr>\n",
       "    <tr>\n",
       "      <th>2652</th>\n",
       "      <td>2017.0</td>\n",
       "      <td>4.0</td>\n",
       "      <td>21.0</td>\n",
       "      <td>12.0</td>\n",
       "      <td>6.7</td>\n",
       "      <td>100.0</td>\n",
       "      <td>8.2</td>\n",
       "      <td>0.0</td>\n",
       "      <td>55.398772</td>\n",
       "      <td>-5.578307</td>\n",
       "      <td>-9.260705</td>\n",
       "      <td>-9.355655</td>\n",
       "      <td>0.0</td>\n",
       "      <td>0</td>\n",
       "      <td>1</td>\n",
       "      <td>-2</td>\n",
       "      <td>0</td>\n",
       "      <td>early_afternoon</td>\n",
       "      <td>0</td>\n",
       "      <td>0</td>\n",
       "    </tr>\n",
       "    <tr>\n",
       "      <th>2653</th>\n",
       "      <td>2017.0</td>\n",
       "      <td>4.0</td>\n",
       "      <td>21.0</td>\n",
       "      <td>13.0</td>\n",
       "      <td>6.7</td>\n",
       "      <td>100.0</td>\n",
       "      <td>7.2</td>\n",
       "      <td>0.0</td>\n",
       "      <td>47.574727</td>\n",
       "      <td>-3.979534</td>\n",
       "      <td>-7.688882</td>\n",
       "      <td>-7.775989</td>\n",
       "      <td>0.0</td>\n",
       "      <td>0</td>\n",
       "      <td>1</td>\n",
       "      <td>-2</td>\n",
       "      <td>0</td>\n",
       "      <td>early_afternoon</td>\n",
       "      <td>0</td>\n",
       "      <td>0</td>\n",
       "    </tr>\n",
       "  </tbody>\n",
       "</table>\n",
       "</div>"
      ],
      "text/plain": [
       "        Year  Month   Day  Hour  DBT  RelHum  WSp  Precipitation       Elev  \\\n",
       "2649  2017.0    4.0  21.0   9.0  6.7   100.0  7.7            0.0  52.392654   \n",
       "2650  2017.0    4.0  21.0  10.0  6.7    96.0  8.2            0.0  58.334083   \n",
       "2651  2017.0    4.0  21.0  11.0  7.2    97.0  7.2            0.0  59.503749   \n",
       "2652  2017.0    4.0  21.0  12.0  6.7   100.0  8.2            0.0  55.398772   \n",
       "2653  2017.0    4.0  21.0  13.0  6.7   100.0  7.2            0.0  47.574727   \n",
       "\n",
       "      utcivar1  utcivar2   utcivar3  count  specialdate  route  utcivar1_cat  \\\n",
       "2649 -5.488704 -9.169357  -9.233817    0.0            0      1            -2   \n",
       "2650 -6.296706 -9.999895 -10.068702    1.0            0      1            -2   \n",
       "2651 -3.105039 -6.808441  -6.900785    0.0            0      1            -2   \n",
       "2652 -5.578307 -9.260705  -9.355655    0.0            0      1            -2   \n",
       "2653 -3.979534 -7.688882  -7.775989    0.0            0      1            -2   \n",
       "\n",
       "      precipitation_cat         hour_cat  count_cat  weekend  \n",
       "2649                  0          morning          0        0  \n",
       "2650                  0          morning          1        0  \n",
       "2651                  0  early_afternoon          0        0  \n",
       "2652                  0  early_afternoon          0        0  \n",
       "2653                  0  early_afternoon          0        0  "
      ]
     },
     "execution_count": 7,
     "metadata": {},
     "output_type": "execute_result"
    }
   ],
   "source": [
    "#drop unecessary columns\n",
    "df = df.drop(['DateTime','Dockability','Releasability'],axis =1)\n",
    "df.head()"
   ]
  },
  {
   "cell_type": "markdown",
   "metadata": {},
   "source": [
    "# setting constraints on time interval for Set C (weekday afternoon + non-specialdate + weekday)"
   ]
  },
  {
   "cell_type": "code",
   "execution_count": 8,
   "metadata": {},
   "outputs": [],
   "source": [
    "#create separate dataframe for set D \n",
    "df2 = df.copy()[(df['specialdate'] == 0) & (df['Hour'] >= 13) & (df['Hour'] <= 17) & (df['weekend'] == 0 )]\n",
    "#non-special dates, from 1pm to 6pm, weekdays"
   ]
  },
  {
   "cell_type": "markdown",
   "metadata": {},
   "source": [
    "# data prep for set A1,A2,B (incl. train_test_split)"
   ]
  },
  {
   "cell_type": "code",
   "execution_count": 9,
   "metadata": {},
   "outputs": [],
   "source": [
    "#set A,B,C's data prep\n",
    "df = df.drop(['Day','Elev','utcivar2','utcivar3'],axis=1)\n",
    "X = df.drop(['count','count_cat'],axis = 1)\n",
    "y_cts = df['count']\n",
    "y_cat = df['count_cat']"
   ]
  },
  {
   "cell_type": "code",
   "execution_count": 10,
   "metadata": {},
   "outputs": [],
   "source": [
    "catcols = ['utcivar1_cat','Hour','Month']\n",
    "X = pd.get_dummies(X,columns = catcols, drop_first = False)"
   ]
  },
  {
   "cell_type": "code",
   "execution_count": 11,
   "metadata": {},
   "outputs": [],
   "source": [
    "X_train, X_test, y_cts_train, y_cts_test, y_cat_train,y_cat_test = train_test_split(X,y_cts,y_cat, train_size = 0.8)"
   ]
  },
  {
   "cell_type": "markdown",
   "metadata": {},
   "source": [
    "# data prep for set C (incl. train_test_split)"
   ]
  },
  {
   "cell_type": "code",
   "execution_count": 12,
   "metadata": {},
   "outputs": [],
   "source": [
    "#set C data prep\n",
    "df2 = df2.drop(['Day','Elev','utcivar2','utcivar3'],axis=1)\n",
    "X2 = df2.drop(['count','count_cat'],axis = 1)\n",
    "y2_cts = df2['count']\n",
    "y2_cat = df2['count_cat']"
   ]
  },
  {
   "cell_type": "code",
   "execution_count": 13,
   "metadata": {},
   "outputs": [],
   "source": [
    "catcols2 = ['utcivar1_cat','Hour','Month']\n",
    "X2 = pd.get_dummies(X2,columns = catcols2, drop_first = False)"
   ]
  },
  {
   "cell_type": "code",
   "execution_count": 14,
   "metadata": {},
   "outputs": [],
   "source": [
    "#train,test,split for set C\n",
    "X2_train, X2_test, y2_cts_train, y2_cts_test, y2_cat_train,y2_cat_test = train_test_split(X2,y2_cts,y2_cat, train_size = 0.8)"
   ]
  },
  {
   "cell_type": "markdown",
   "metadata": {},
   "source": [
    "# Preparing columns required for each set"
   ]
  },
  {
   "cell_type": "code",
   "execution_count": 15,
   "metadata": {},
   "outputs": [],
   "source": [
    "#if you need this: (Example use at bottom)\n",
    "\n",
    "#for set A1,A2,B\n",
    "precipitationCols = ['precipitation_cat']\n",
    "\n",
    "specialDateCols = ['specialdate']\n",
    "\n",
    "weekendCols = ['weekend']\n",
    "        \n",
    "hourCols = [X_train.columns[i] for i in range(len(X_train.columns)) if (\"Hour\" in X_train.columns[i])]\n",
    "\n",
    "monthCols = [X_train.columns[i] for i in range(len(X_train.columns)) if (\"Month\" in X_train.columns[i])]\n",
    "\n",
    "utciCols = [X_train.columns[i] for i in range(len(X_train.columns)) if (\"utcivar1_cat\" in X_train.columns[i])]\n",
    "\n",
    "weatherCols = ['DBT', 'RelHum', 'WSp']\n",
    "\n",
    "#for set C \n",
    "hour2Cols = [X2_train.columns[i] for i in range(len(X2_train.columns)) if (\"Hour\" in X2_train.columns[i])]\n",
    "\n",
    "month2Cols = [X2_train.columns[i] for i in range(len(X2_train.columns)) if (\"Month\" in X2_train.columns[i])]\n",
    "\n",
    "##combining cols for each set\n",
    "a1cols = utciCols + precipitationCols + specialDateCols + weekendCols + hourCols + monthCols\n",
    "\n",
    "a2cols = ['utcivar1'] + precipitationCols + specialDateCols + weekendCols + hourCols + monthCols #main distinction: utcivar1\n",
    "\n",
    "bcols = weatherCols + precipitationCols + specialDateCols + weekendCols + hourCols + monthCols #main distinction: weatherCols \n",
    "\n",
    "ccols = ['utcivar1'] + precipitationCols + hour2Cols + month2Cols #main distinction: no special date or weekend\n",
    "\n",
    "#example use:\n",
    "\n",
    "#for 'a1' model,\n",
    "#notice the use of 'acols' in the fitting and scoring stage@\n",
    "\n",
    "#model = RandomForestClassifier(max_depth = max_depth, n_estimators = n_estimators,random_state = rs,class_weight = \"balanced_subsample\", oob_score = True))\n",
    "#model.fit(X_train[a1cols],y_train,sample_weight = True)\n",
    "#trainscore = model.score(X_train[a1cols],y_train)\n",
    "#testscore = model.score(X_test[a1cols],y_train)\n",
    "\n",
    "#do the same for set a2,b,c"
   ]
  },
  {
   "cell_type": "markdown",
   "metadata": {},
   "source": [
    "# KKN"
   ]
  },
  {
   "cell_type": "code",
   "execution_count": 16,
   "metadata": {},
   "outputs": [],
   "source": [
    "def scale(X,features):\n",
    "    scaler = MinMaxScaler()\n",
    "    return scaler.fit_transform(X[features])\n",
    "\n",
    "def scale_split(X,y,features):\n",
    "    n = X.shape[0]\n",
    "    frac = n // 5\n",
    "    idx = np.random.choice(n, replace = True, size = frac)\n",
    "    X = X.iloc[idx]\n",
    "    y = y.iloc[idx]\n",
    "    X = scale(X,features)\n",
    "    # Uses SMOTE for unbalanced classes\n",
    "    X,y = SMOTE().fit_resample(X,y)\n",
    "    return (X,y)\n",
    "\n",
    "def get_acc(true,pred):\n",
    "    return round(accuracy_score(true,pred),4)\n",
    "\n",
    "def progress():\n",
    "    print('-')"
   ]
  },
  {
   "cell_type": "code",
   "execution_count": 17,
   "metadata": {},
   "outputs": [
    {
     "name": "stdout",
     "output_type": "stream",
     "text": [
      "N Neighbors\n",
      "-\n",
      "-\n",
      "-\n",
      "-\n",
      "-\n",
      "-\n",
      "-\n",
      "-\n",
      "-\n",
      "-\n",
      "Leaf\n",
      "-\n",
      "-\n",
      "-\n",
      "-\n",
      "-\n",
      "-\n",
      "-\n",
      "-\n",
      "-\n",
      "-\n",
      "-\n",
      "-\n",
      "-\n",
      "-\n",
      "-\n",
      "-\n",
      "-\n",
      "-\n",
      "-\n",
      "-\n"
     ]
    }
   ],
   "source": [
    "# Set A\n",
    "X, y = scale_split(X_train,y_cat_train,a1cols)\n",
    "test = scale(X_test,a1cols)\n",
    "leaf_size = list(range(20,40))\n",
    "n_neighbors = list(range(1,11))\n",
    "\n",
    "n_train_acc = []\n",
    "n_val_acc = []\n",
    "\n",
    "l_train_acc = []\n",
    "l_val_acc = []\n",
    "\n",
    "print('N Neighbors')\n",
    "for n in n_neighbors:\n",
    "    knn = KNeighborsClassifier(n_neighbors=n)\n",
    "    scores = cross_validate(knn, X, y, cv=3,return_train_score=True)\n",
    "    n_train_acc.append(np.mean(scores['train_score']))\n",
    "    n_val_acc.append(np.mean(scores['test_score']))\n",
    "    progress()\n",
    "print('Leaf')\n",
    "for l in leaf_size:\n",
    "    knn = KNeighborsClassifier(leaf_size = l)\n",
    "    scores = cross_validate(knn, X, y, cv=3,return_train_score=True)\n",
    "    l_train_acc.append(np.mean(scores['train_score']))\n",
    "    l_val_acc.append(np.mean(scores['test_score']))\n",
    "    progress()    "
   ]
  },
  {
   "cell_type": "code",
   "execution_count": 18,
   "metadata": {},
   "outputs": [
    {
     "data": {
      "image/png": "[encoded data removed]",
      "text/plain": [
       "<Figure size 1152x288 with 2 Axes>"
      ]
     },
     "metadata": {
      "needs_background": "light"
     },
     "output_type": "display_data"
    }
   ],
   "source": [
    "fig, ax = plt.subplots(1, 2,  figsize=(16,4))\n",
    "\n",
    "ax[0].plot(n_neighbors, n_train_acc, label = 'Training', color='#48A9A6')\n",
    "ax[0].plot(n_neighbors, n_val_acc, label = 'Validation', color='#C1666B')\n",
    "ax[0].set_title('Accuracy vs. N Neighbors')  \n",
    "ax[0].set_xlabel('Parameter A')   \n",
    "ax[0].set_ylabel('Accuracy')\n",
    "ax[0].legend(loc = 'best')\n",
    "\n",
    "ax[1].plot(leaf_size, l_train_acc, label = 'Training', color='#48A9A6')\n",
    "ax[1].plot(leaf_size, l_val_acc, label = 'Validation', color='#C1666B')\n",
    "ax[1].set_title('Accuracy vs. Leaf Size') \n",
    "ax[1].set_xlabel('Leaf Size')\n",
    "ax[1].set_ylabel('Accuracy')\n",
    "ax[1].legend(loc = 'best')\n",
    "\n",
    "plt.suptitle('KNN Classifier - Hyperparameter Tuning')\n",
    "plt.show()"
   ]
  },
  {
   "cell_type": "code",
   "execution_count": 17,
   "metadata": {},
   "outputs": [
    {
     "name": "stdout",
     "output_type": "stream",
     "text": [
      "Best p: 1\n",
      "Best n_neighbors: 7\n",
      "Best score: 0.7163625832609325\n",
      "-\n",
      "Best p: 2\n",
      "Best n_neighbors: 1\n",
      "Best score: 0.7924864802669428\n",
      "-\n",
      "Best p: 2\n",
      "Best n_neighbors: 1\n",
      "Best score: 0.8709621396318165\n",
      "-\n",
      "Best p: 2\n",
      "Best n_neighbors: 1\n",
      "Best score: 0.5534290271132377\n",
      "-\n"
     ]
    }
   ],
   "source": [
    "# More comprehensive \n",
    "n_neighbors = list(range(1,11))\n",
    "p=[1,2]\n",
    "\n",
    "data = [(X_train,y_cat_train),(X2_train,y2_cat_train)]\n",
    "feature_sets = [a1cols,a2cols,bcols,ccols]\n",
    "\n",
    "clf_model = []\n",
    "hyperparameters = dict(n_neighbors=n_neighbors, p=p)\n",
    "\n",
    "# Classifier\n",
    "knn = KNeighborsClassifier()\n",
    "\n",
    "# Use Random Search\n",
    "clf = RandomizedSearchCV(knn, hyperparameters, cv=3)\n",
    "X_train_h,y_train_h = data[0]\n",
    "for i in range(4):\n",
    "# Switch Data if Set C\n",
    "    if i > 2:\n",
    "        X_train_h,y_train_h = data[1]\n",
    "    X, y = scale_split(X_train_h,y_train_h,feature_sets[i])\n",
    "    best_model = clf.fit(X,y)\n",
    "    p = best_model.best_estimator_.get_params()['p']\n",
    "    n = best_model.best_estimator_.get_params()['n_neighbors']\n",
    "    sc = best_model.best_score_\n",
    "    print('Best p:', p)\n",
    "    print('Best n_neighbors:',n)\n",
    "    print('Best score:', sc)\n",
    "\n",
    "    clf_model.append((p,n,sc))\n",
    "    progress()"
   ]
  },
  {
   "cell_type": "code",
   "execution_count": 20,
   "metadata": {},
   "outputs": [],
   "source": [
    "def best_test(features,n,p,X = X_train,y = y_cat_train,X_test = X_test,y_test = y_cat_test):\n",
    "    X, y = scale_split(X,y,features)\n",
    "    test = scale(X_test,features)\n",
    "\n",
    "    knn = KNeighborsClassifier(n_neighbors=n,p=p)\n",
    "\n",
    "    knn.fit(X,y)\n",
    "\n",
    "    test_pred = knn.predict(test)\n",
    "\n",
    "    test_acc = get_acc(y_test,test_pred)\n",
    "    return test_acc\n",
    "\n",
    "# Set A1\n",
    "a1_score = best_test(a1cols,clf_model[0][1],clf_model[0][0])\n",
    "# Set A2\n",
    "a2_score = best_test(a2cols,clf_model[1][1],clf_model[1][0])\n",
    "# Set B\n",
    "b_score = best_test(bcols,clf_model[2][1],clf_model[2][0])\n",
    "# Set C\n",
    "c_score = best_test(ccols,clf_model[3][1],clf_model[3][0],X2_train,y2_cat_train,X2_test, y2_cat_test)"
   ]
  },
  {
   "cell_type": "code",
   "execution_count": 21,
   "metadata": {},
   "outputs": [
    {
     "name": "stdout",
     "output_type": "stream",
     "text": [
      "A1 Test Acc: 0.6601\n",
      "A2 Test Acc: 0.6409\n",
      "B Test Acc: 0.6562\n",
      "C Test Acc: 0.4259\n"
     ]
    }
   ],
   "source": [
    "print('A1 Test Acc:',a1_score)\n",
    "print('A2 Test Acc:',a2_score)\n",
    "print('B Test Acc:',b_score)\n",
    "print('C Test Acc:',c_score)"
   ]
  },
  {
   "cell_type": "code",
   "execution_count": 26,
   "metadata": {},
   "outputs": [
    {
     "data": {
      "image/png": "[encoded data removed]",
      "text/plain": [
       "<Figure size 504x288 with 1 Axes>"
      ]
     },
     "metadata": {
      "needs_background": "light"
     },
     "output_type": "display_data"
    }
   ],
   "source": [
    "fig, ax = plt.subplots(figsize=(7,4))\n",
    "scores = [a1_score,a2_score,b_score,c_score]\n",
    "sets = ['a1','a2','b','c']\n",
    "ax.bar(sets,scores)\n",
    "ax.set_title('Best Classification Accuracy for KNN Models')  \n",
    "ax.set_xlabel('Model Sets')   \n",
    "ax.set_ylabel('Accuracy');"
   ]
  }
 ],
 "metadata": {
  "kernelspec": {
   "display_name": "cs109a",
   "language": "python",
   "name": "cs109a"
  },
  "language_info": {
   "codemirror_mode": {
    "name": "ipython",
    "version": 3
   },
   "file_extension": ".py",
   "mimetype": "text/x-python",
   "name": "python",
   "nbconvert_exporter": "python",
   "pygments_lexer": "ipython3",
   "version": "3.7.8"
  }
 },
 "nbformat": 4,
 "nbformat_minor": 4
}

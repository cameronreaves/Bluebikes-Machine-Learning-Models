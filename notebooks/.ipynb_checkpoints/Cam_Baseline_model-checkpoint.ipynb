{
 "cells": [
  {
   "cell_type": "code",
   "execution_count": 8,
   "metadata": {},
   "outputs": [],
   "source": [
    "import numpy as np\n",
    "import pandas as pd\n",
    "import seaborn as sns\n",
    "import matplotlib\n",
    "import matplotlib.pyplot as plt\n",
    "%matplotlib inline\n",
    "\n",
    "from sklearn.metrics import r2_score\n",
    "from sklearn.metrics import mean_squared_error\n",
    "from sklearn.metrics import accuracy_score\n",
    "from sklearn.model_selection import train_test_split\n",
    "from sklearn.linear_model import LogisticRegression\n",
    "from imblearn.over_sampling import SMOTE"
   ]
  },
  {
   "cell_type": "code",
   "execution_count": 16,
   "metadata": {},
   "outputs": [
    {
     "name": "stdout",
     "output_type": "stream",
     "text": [
      "Train R2:-0.6528657913829665, Train Accuracy:0.5867882707750445\n",
      "Test R2:-0.6747119989381898, Test Accuracy:0.5813480288257736\n"
     ]
    }
   ],
   "source": [
    "data = pd.read_csv('../data/data.csv')\n",
    "\n",
    "# Reduce to binary classification problem\n",
    "\n",
    "data['count_cat'] = (data['count_cat'] > 0) * 1\n",
    "\n",
    "features = ['DBT','weekend','precipitation_cat','Hour','Month']\n",
    "target = 'count_cat'\n",
    "\n",
    "\n",
    "# Drop observation that are really early or late\n",
    "mask = (data['Hour'] > 6) & (data['Hour'] < 22)\n",
    "data = data[mask]\n",
    "\n",
    "X = data[features]\n",
    "y = data[target]\n",
    "\n",
    "X, y = SMOTE().fit_resample(X,y)\n",
    "\n",
    "X_train, X_test, y_train, y_test = train_test_split(X,y,train_size=0.7,random_state=43)\n",
    "\n",
    "baseline_model = LogisticRegression(max_iter = 1000)\n",
    "\n",
    "baseline_model.fit(X_train,y_train)\n",
    "\n",
    "train_pred = baseline_model.predict(X_train)\n",
    "test_pred = baseline_model.predict(X_test)\n",
    "\n",
    "tr_score = r2_score(y_train,train_pred)\n",
    "tr_acc = accuracy_score(y_train,train_pred)\n",
    "\n",
    "score = r2_score(y_test,test_pred)\n",
    "acc = accuracy_score(y_test,test_pred)\n",
    "\n",
    "print(f'Train R2:{tr_score}, Train Accuracy:{tr_acc}')\n",
    "print(f'Test R2:{score}, Test Accuracy:{acc}')"
   ]
  }
 ],
 "metadata": {
  "kernelspec": {
   "display_name": "cs109a",
   "language": "python",
   "name": "cs109a"
  },
  "language_info": {
   "codemirror_mode": {
    "name": "ipython",
    "version": 3
   },
   "file_extension": ".py",
   "mimetype": "text/x-python",
   "name": "python",
   "nbconvert_exporter": "python",
   "pygments_lexer": "ipython3",
   "version": "3.7.8"
  }
 },
 "nbformat": 4,
 "nbformat_minor": 2
}

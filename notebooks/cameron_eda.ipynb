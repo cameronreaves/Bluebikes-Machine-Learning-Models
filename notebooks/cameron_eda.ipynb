{
 "cells": [
  {
   "cell_type": "code",
   "execution_count": 1,
   "metadata": {},
   "outputs": [],
   "source": [
    "import pandas as pd\n",
    "import matplotlib.pyplot as plt\n",
    "import sklearn as sk\n",
    "from sklearn.model_selection import train_test_split\n",
    "from sklearn.linear_model import LinearRegression"
   ]
  },
  {
   "cell_type": "code",
   "execution_count": 2,
   "metadata": {},
   "outputs": [],
   "source": [
    "data = pd.read_csv(\"data/route1processeddata.csv\")"
   ]
  },
  {
   "cell_type": "code",
   "execution_count": 3,
   "metadata": {},
   "outputs": [
    {
     "data": {
      "text/html": [
       "<div>\n",
       "<style scoped>\n",
       "    .dataframe tbody tr th:only-of-type {\n",
       "        vertical-align: middle;\n",
       "    }\n",
       "\n",
       "    .dataframe tbody tr th {\n",
       "        vertical-align: top;\n",
       "    }\n",
       "\n",
       "    .dataframe thead th {\n",
       "        text-align: right;\n",
       "    }\n",
       "</style>\n",
       "<table border=\"1\" class=\"dataframe\">\n",
       "  <thead>\n",
       "    <tr style=\"text-align: right;\">\n",
       "      <th></th>\n",
       "      <th>Year</th>\n",
       "      <th>Month</th>\n",
       "      <th>Day</th>\n",
       "      <th>Hour</th>\n",
       "      <th>DBT</th>\n",
       "      <th>RelHum</th>\n",
       "      <th>WSp</th>\n",
       "      <th>Precipitation</th>\n",
       "      <th>Elev</th>\n",
       "      <th>utcivar1</th>\n",
       "      <th>utcivar2</th>\n",
       "      <th>utcivar3</th>\n",
       "      <th>count</th>\n",
       "      <th>Dockability</th>\n",
       "      <th>Releasability</th>\n",
       "      <th>specialdate</th>\n",
       "    </tr>\n",
       "  </thead>\n",
       "  <tbody>\n",
       "    <tr>\n",
       "      <th>count</th>\n",
       "      <td>26280.000000</td>\n",
       "      <td>26280.000000</td>\n",
       "      <td>26280.000000</td>\n",
       "      <td>26280.000000</td>\n",
       "      <td>26280.000000</td>\n",
       "      <td>26280.000000</td>\n",
       "      <td>26280.000000</td>\n",
       "      <td>26280.000000</td>\n",
       "      <td>26280.000000</td>\n",
       "      <td>26280.000000</td>\n",
       "      <td>26280.000000</td>\n",
       "      <td>26280.000000</td>\n",
       "      <td>26280.000000</td>\n",
       "      <td>16093.000000</td>\n",
       "      <td>16093.000000</td>\n",
       "      <td>26280.000000</td>\n",
       "    </tr>\n",
       "    <tr>\n",
       "      <th>mean</th>\n",
       "      <td>2018.000000</td>\n",
       "      <td>6.526027</td>\n",
       "      <td>15.720548</td>\n",
       "      <td>11.500000</td>\n",
       "      <td>11.555811</td>\n",
       "      <td>64.517161</td>\n",
       "      <td>5.043877</td>\n",
       "      <td>0.147964</td>\n",
       "      <td>15.018772</td>\n",
       "      <td>6.249769</td>\n",
       "      <td>2.729696</td>\n",
       "      <td>2.691014</td>\n",
       "      <td>0.505746</td>\n",
       "      <td>0.984495</td>\n",
       "      <td>0.730715</td>\n",
       "      <td>0.491324</td>\n",
       "    </tr>\n",
       "    <tr>\n",
       "      <th>std</th>\n",
       "      <td>0.816512</td>\n",
       "      <td>3.447917</td>\n",
       "      <td>8.796414</td>\n",
       "      <td>6.922318</td>\n",
       "      <td>10.026865</td>\n",
       "      <td>20.459736</td>\n",
       "      <td>2.472160</td>\n",
       "      <td>0.821503</td>\n",
       "      <td>19.877266</td>\n",
       "      <td>15.407218</td>\n",
       "      <td>16.193476</td>\n",
       "      <td>16.161064</td>\n",
       "      <td>1.155532</td>\n",
       "      <td>0.100187</td>\n",
       "      <td>0.391920</td>\n",
       "      <td>0.499934</td>\n",
       "    </tr>\n",
       "    <tr>\n",
       "      <th>min</th>\n",
       "      <td>2017.000000</td>\n",
       "      <td>1.000000</td>\n",
       "      <td>1.000000</td>\n",
       "      <td>0.000000</td>\n",
       "      <td>-18.900000</td>\n",
       "      <td>8.000000</td>\n",
       "      <td>0.000000</td>\n",
       "      <td>0.000000</td>\n",
       "      <td>0.000000</td>\n",
       "      <td>-49.658875</td>\n",
       "      <td>-52.092160</td>\n",
       "      <td>-52.092160</td>\n",
       "      <td>0.000000</td>\n",
       "      <td>0.000000</td>\n",
       "      <td>0.000000</td>\n",
       "      <td>0.000000</td>\n",
       "    </tr>\n",
       "    <tr>\n",
       "      <th>25%</th>\n",
       "      <td>2017.000000</td>\n",
       "      <td>4.000000</td>\n",
       "      <td>8.000000</td>\n",
       "      <td>5.750000</td>\n",
       "      <td>3.300000</td>\n",
       "      <td>48.000000</td>\n",
       "      <td>3.100000</td>\n",
       "      <td>0.000000</td>\n",
       "      <td>0.000000</td>\n",
       "      <td>-4.721006</td>\n",
       "      <td>-9.226167</td>\n",
       "      <td>-9.233860</td>\n",
       "      <td>0.000000</td>\n",
       "      <td>1.000000</td>\n",
       "      <td>0.450000</td>\n",
       "      <td>0.000000</td>\n",
       "    </tr>\n",
       "    <tr>\n",
       "      <th>50%</th>\n",
       "      <td>2018.000000</td>\n",
       "      <td>7.000000</td>\n",
       "      <td>16.000000</td>\n",
       "      <td>11.500000</td>\n",
       "      <td>11.700000</td>\n",
       "      <td>65.000000</td>\n",
       "      <td>4.600000</td>\n",
       "      <td>0.000000</td>\n",
       "      <td>0.892818</td>\n",
       "      <td>7.640638</td>\n",
       "      <td>3.697498</td>\n",
       "      <td>3.668930</td>\n",
       "      <td>0.000000</td>\n",
       "      <td>1.000000</td>\n",
       "      <td>1.000000</td>\n",
       "      <td>0.000000</td>\n",
       "    </tr>\n",
       "    <tr>\n",
       "      <th>75%</th>\n",
       "      <td>2019.000000</td>\n",
       "      <td>10.000000</td>\n",
       "      <td>23.000000</td>\n",
       "      <td>17.250000</td>\n",
       "      <td>20.000000</td>\n",
       "      <td>82.000000</td>\n",
       "      <td>6.700000</td>\n",
       "      <td>0.000000</td>\n",
       "      <td>27.283600</td>\n",
       "      <td>18.841994</td>\n",
       "      <td>16.160696</td>\n",
       "      <td>16.120020</td>\n",
       "      <td>0.000000</td>\n",
       "      <td>1.000000</td>\n",
       "      <td>1.000000</td>\n",
       "      <td>1.000000</td>\n",
       "    </tr>\n",
       "    <tr>\n",
       "      <th>max</th>\n",
       "      <td>2019.000000</td>\n",
       "      <td>12.000000</td>\n",
       "      <td>31.000000</td>\n",
       "      <td>23.000000</td>\n",
       "      <td>36.100000</td>\n",
       "      <td>100.000000</td>\n",
       "      <td>21.600000</td>\n",
       "      <td>7.000000</td>\n",
       "      <td>70.856079</td>\n",
       "      <td>40.093279</td>\n",
       "      <td>38.881728</td>\n",
       "      <td>38.590205</td>\n",
       "      <td>13.000000</td>\n",
       "      <td>1.000000</td>\n",
       "      <td>1.000000</td>\n",
       "      <td>1.000000</td>\n",
       "    </tr>\n",
       "  </tbody>\n",
       "</table>\n",
       "</div>"
      ],
      "text/plain": [
       "               Year         Month           Day          Hour           DBT  \\\n",
       "count  26280.000000  26280.000000  26280.000000  26280.000000  26280.000000   \n",
       "mean    2018.000000      6.526027     15.720548     11.500000     11.555811   \n",
       "std        0.816512      3.447917      8.796414      6.922318     10.026865   \n",
       "min     2017.000000      1.000000      1.000000      0.000000    -18.900000   \n",
       "25%     2017.000000      4.000000      8.000000      5.750000      3.300000   \n",
       "50%     2018.000000      7.000000     16.000000     11.500000     11.700000   \n",
       "75%     2019.000000     10.000000     23.000000     17.250000     20.000000   \n",
       "max     2019.000000     12.000000     31.000000     23.000000     36.100000   \n",
       "\n",
       "             RelHum           WSp  Precipitation          Elev      utcivar1  \\\n",
       "count  26280.000000  26280.000000   26280.000000  26280.000000  26280.000000   \n",
       "mean      64.517161      5.043877       0.147964     15.018772      6.249769   \n",
       "std       20.459736      2.472160       0.821503     19.877266     15.407218   \n",
       "min        8.000000      0.000000       0.000000      0.000000    -49.658875   \n",
       "25%       48.000000      3.100000       0.000000      0.000000     -4.721006   \n",
       "50%       65.000000      4.600000       0.000000      0.892818      7.640638   \n",
       "75%       82.000000      6.700000       0.000000     27.283600     18.841994   \n",
       "max      100.000000     21.600000       7.000000     70.856079     40.093279   \n",
       "\n",
       "           utcivar2      utcivar3         count   Dockability  Releasability  \\\n",
       "count  26280.000000  26280.000000  26280.000000  16093.000000   16093.000000   \n",
       "mean       2.729696      2.691014      0.505746      0.984495       0.730715   \n",
       "std       16.193476     16.161064      1.155532      0.100187       0.391920   \n",
       "min      -52.092160    -52.092160      0.000000      0.000000       0.000000   \n",
       "25%       -9.226167     -9.233860      0.000000      1.000000       0.450000   \n",
       "50%        3.697498      3.668930      0.000000      1.000000       1.000000   \n",
       "75%       16.160696     16.120020      0.000000      1.000000       1.000000   \n",
       "max       38.881728     38.590205     13.000000      1.000000       1.000000   \n",
       "\n",
       "        specialdate  \n",
       "count  26280.000000  \n",
       "mean       0.491324  \n",
       "std        0.499934  \n",
       "min        0.000000  \n",
       "25%        0.000000  \n",
       "50%        0.000000  \n",
       "75%        1.000000  \n",
       "max        1.000000  "
      ]
     },
     "execution_count": 3,
     "metadata": {},
     "output_type": "execute_result"
    }
   ],
   "source": [
    "# s = data.sample(frac=1)\n",
    "data.describe()"
   ]
  },
  {
   "cell_type": "code",
   "execution_count": 4,
   "metadata": {},
   "outputs": [
    {
     "data": {
      "text/plain": [
       "9"
      ]
     },
     "execution_count": 4,
     "metadata": {},
     "output_type": "execute_result"
    }
   ],
   "source": [
    "# I thought precipitation was a categorical variable?\n",
    "sum(data['Precipitation'] == 7)"
   ]
  },
  {
   "cell_type": "code",
   "execution_count": 5,
   "metadata": {},
   "outputs": [
    {
     "data": {
      "image/png": "[encoded data removed]",
      "text/plain": [
       "<Figure size 432x288 with 1 Axes>"
      ]
     },
     "metadata": {
      "needs_background": "light"
     },
     "output_type": "display_data"
    }
   ],
   "source": [
    "r_by_hour = data.groupby('Hour').agg({'count':'sum'})\n",
    "plt.plot(r_by_hour)\n",
    "plt.title('Rides by Hour')\n",
    "plt.xlabel('Hour')\n",
    "plt.ylabel('Rides');"
   ]
  },
  {
   "cell_type": "code",
   "execution_count": 6,
   "metadata": {},
   "outputs": [
    {
     "data": {
      "text/plain": [
       "<matplotlib.legend.Legend at 0x156a50f90>"
      ]
     },
     "execution_count": 6,
     "metadata": {},
     "output_type": "execute_result"
    },
    {
     "data": {
      "image/png": "[encoded data removed]",
      "text/plain": [
       "<Figure size 432x288 with 1 Axes>"
      ]
     },
     "metadata": {
      "needs_background": "light"
     },
     "output_type": "display_data"
    }
   ],
   "source": [
    "u_by_hour = data.groupby('Hour').agg({'utcivar1':'mean','utcivar2':'mean','utcivar3':'mean'})\n",
    "plt.plot(u_by_hour['utcivar1'],c='b')\n",
    "plt.plot(u_by_hour['utcivar2'],c='r')\n",
    "plt.plot(u_by_hour['utcivar3'],c='g');\n",
    "plt.title('UTC by Hour')\n",
    "plt.xlabel('Hour')\n",
    "plt.ylabel('UTC')\n",
    "plt.legend(labels=['1','2','3'])"
   ]
  },
  {
   "cell_type": "code",
   "execution_count": 7,
   "metadata": {},
   "outputs": [
    {
     "data": {
      "text/plain": [
       "Text(0, 0.5, 'Rides')"
      ]
     },
     "execution_count": 7,
     "metadata": {},
     "output_type": "execute_result"
    },
    {
     "data": {
      "image/png": "[encoded data removed]",
      "text/plain": [
       "<Figure size 432x288 with 1 Axes>"
      ]
     },
     "metadata": {
      "needs_background": "light"
     },
     "output_type": "display_data"
    }
   ],
   "source": [
    "by_month = data.groupby('Month').agg({'count':'sum'})\n",
    "plt.plot(by_month)\n",
    "plt.title('Rides by Month')\n",
    "plt.xlabel('Month')\n",
    "plt.ylabel('Rides')"
   ]
  },
  {
   "cell_type": "code",
   "execution_count": 8,
   "metadata": {},
   "outputs": [
    {
     "data": {
      "text/plain": [
       "<matplotlib.legend.Legend at 0x156c6de50>"
      ]
     },
     "execution_count": 8,
     "metadata": {},
     "output_type": "execute_result"
    },
    {
     "data": {
      "image/png": "[encoded data removed]",
      "text/plain": [
       "<Figure size 432x288 with 1 Axes>"
      ]
     },
     "metadata": {
      "needs_background": "light"
     },
     "output_type": "display_data"
    }
   ],
   "source": [
    "u_by_month = data.groupby('Month').agg({'utcivar1':'mean','utcivar2':'mean','utcivar3':'mean'})\n",
    "plt.plot(u_by_month['utcivar1'],c='b')\n",
    "plt.plot(u_by_month['utcivar2'],c='r')\n",
    "plt.plot(u_by_month['utcivar3'],c='g');\n",
    "plt.title('UTC by Month')\n",
    "plt.xlabel('Month')\n",
    "plt.ylabel('UTC')\n",
    "plt.legend(labels=['1','2','3'])"
   ]
  },
  {
   "cell_type": "code",
   "execution_count": 9,
   "metadata": {},
   "outputs": [
    {
     "data": {
      "text/plain": [
       "(array([  57.,  321.,  931., 2368., 4151., 4604., 4564., 5493., 3269.,\n",
       "         522.]),\n",
       " array([-52.09216   , -43.02392352, -33.95568703, -24.88745055,\n",
       "        -15.81921407,  -6.75097758,   2.3172589 ,  11.38549538,\n",
       "         20.45373187,  29.52196835,  38.59020483]),\n",
       " <BarContainer object of 10 artists>)"
      ]
     },
     "execution_count": 9,
     "metadata": {},
     "output_type": "execute_result"
    },
    {
     "data": {
      "image/png": "[encoded data removed]",
      "text/plain": [
       "<Figure size 432x288 with 1 Axes>"
      ]
     },
     "metadata": {
      "needs_background": "light"
     },
     "output_type": "display_data"
    }
   ],
   "source": [
    "# All have the same distribution\n",
    "plt.hist(data['utcivar1'])\n",
    "plt.hist(data['utcivar2'])\n",
    "plt.hist(data['utcivar3'])"
   ]
  },
  {
   "cell_type": "code",
   "execution_count": 10,
   "metadata": {},
   "outputs": [
    {
     "data": {
      "text/plain": [
       "<matplotlib.legend.Legend at 0x1563fb910>"
      ]
     },
     "execution_count": 10,
     "metadata": {},
     "output_type": "execute_result"
    },
    {
     "data": {
      "image/png": "[encoded data removed]",
      "text/plain": [
       "<Figure size 432x288 with 1 Axes>"
      ]
     },
     "metadata": {
      "needs_background": "light"
     },
     "output_type": "display_data"
    }
   ],
   "source": [
    "# D = at least 10% full\n",
    "# R = at least 15% empty\n",
    "\n",
    "dr_by_hour = data.groupby('Hour').agg({'Dockability':'mean','Releasability':'mean'})\n",
    "plt.plot(dr_by_hour['Dockability'],c='b')\n",
    "plt.plot(dr_by_hour['Releasability'],c='r')\n",
    "plt.title('Dock and Relese by Hour')\n",
    "plt.xlabel('Hour')\n",
    "plt.ylabel('D and R')\n",
    "plt.legend(labels=['D','R'])"
   ]
  },
  {
   "cell_type": "code",
   "execution_count": 11,
   "metadata": {},
   "outputs": [],
   "source": [
    "test = data.copy()"
   ]
  },
  {
   "cell_type": "code",
   "execution_count": 12,
   "metadata": {},
   "outputs": [
    {
     "data": {
      "text/html": [
       "<div>\n",
       "<style scoped>\n",
       "    .dataframe tbody tr th:only-of-type {\n",
       "        vertical-align: middle;\n",
       "    }\n",
       "\n",
       "    .dataframe tbody tr th {\n",
       "        vertical-align: top;\n",
       "    }\n",
       "\n",
       "    .dataframe thead th {\n",
       "        text-align: right;\n",
       "    }\n",
       "</style>\n",
       "<table border=\"1\" class=\"dataframe\">\n",
       "  <thead>\n",
       "    <tr style=\"text-align: right;\">\n",
       "      <th></th>\n",
       "      <th>Year</th>\n",
       "      <th>Month</th>\n",
       "      <th>Day</th>\n",
       "      <th>Hour</th>\n",
       "      <th>DBT</th>\n",
       "      <th>RelHum</th>\n",
       "      <th>WSp</th>\n",
       "      <th>Precipitation</th>\n",
       "      <th>Elev</th>\n",
       "      <th>utcivar1</th>\n",
       "      <th>utcivar2</th>\n",
       "      <th>utcivar3</th>\n",
       "      <th>count</th>\n",
       "      <th>Dockability</th>\n",
       "      <th>Releasability</th>\n",
       "      <th>specialdate</th>\n",
       "    </tr>\n",
       "    <tr>\n",
       "      <th>DateTime</th>\n",
       "      <th></th>\n",
       "      <th></th>\n",
       "      <th></th>\n",
       "      <th></th>\n",
       "      <th></th>\n",
       "      <th></th>\n",
       "      <th></th>\n",
       "      <th></th>\n",
       "      <th></th>\n",
       "      <th></th>\n",
       "      <th></th>\n",
       "      <th></th>\n",
       "      <th></th>\n",
       "      <th></th>\n",
       "      <th></th>\n",
       "      <th></th>\n",
       "    </tr>\n",
       "  </thead>\n",
       "  <tbody>\n",
       "    <tr>\n",
       "      <th>1/1/2000 0:00</th>\n",
       "      <td>NaN</td>\n",
       "      <td>NaN</td>\n",
       "      <td>NaN</td>\n",
       "      <td>NaN</td>\n",
       "      <td>NaN</td>\n",
       "      <td>NaN</td>\n",
       "      <td>NaN</td>\n",
       "      <td>NaN</td>\n",
       "      <td>NaN</td>\n",
       "      <td>NaN</td>\n",
       "      <td>NaN</td>\n",
       "      <td>NaN</td>\n",
       "      <td>NaN</td>\n",
       "      <td>NaN</td>\n",
       "      <td>NaN</td>\n",
       "      <td>NaN</td>\n",
       "    </tr>\n",
       "    <tr>\n",
       "      <th>1/1/2000 1:00</th>\n",
       "      <td>2017.0</td>\n",
       "      <td>1.0</td>\n",
       "      <td>1.0</td>\n",
       "      <td>0.0</td>\n",
       "      <td>3.9</td>\n",
       "      <td>89.0</td>\n",
       "      <td>6.2</td>\n",
       "      <td>0.0</td>\n",
       "      <td>0.0</td>\n",
       "      <td>-8.483754</td>\n",
       "      <td>-12.490996</td>\n",
       "      <td>-12.490996</td>\n",
       "      <td>0.0</td>\n",
       "      <td>NaN</td>\n",
       "      <td>NaN</td>\n",
       "      <td>1.0</td>\n",
       "    </tr>\n",
       "    <tr>\n",
       "      <th>1/1/2000 2:00</th>\n",
       "      <td>2017.0</td>\n",
       "      <td>1.0</td>\n",
       "      <td>1.0</td>\n",
       "      <td>1.0</td>\n",
       "      <td>3.9</td>\n",
       "      <td>89.0</td>\n",
       "      <td>6.2</td>\n",
       "      <td>0.0</td>\n",
       "      <td>0.0</td>\n",
       "      <td>-8.483754</td>\n",
       "      <td>-12.490996</td>\n",
       "      <td>-12.490996</td>\n",
       "      <td>0.0</td>\n",
       "      <td>NaN</td>\n",
       "      <td>NaN</td>\n",
       "      <td>1.0</td>\n",
       "    </tr>\n",
       "    <tr>\n",
       "      <th>1/1/2000 3:00</th>\n",
       "      <td>2017.0</td>\n",
       "      <td>1.0</td>\n",
       "      <td>1.0</td>\n",
       "      <td>2.0</td>\n",
       "      <td>2.8</td>\n",
       "      <td>92.0</td>\n",
       "      <td>6.2</td>\n",
       "      <td>0.0</td>\n",
       "      <td>0.0</td>\n",
       "      <td>-10.088523</td>\n",
       "      <td>-14.110906</td>\n",
       "      <td>-14.110906</td>\n",
       "      <td>0.0</td>\n",
       "      <td>NaN</td>\n",
       "      <td>NaN</td>\n",
       "      <td>1.0</td>\n",
       "    </tr>\n",
       "    <tr>\n",
       "      <th>1/1/2000 4:00</th>\n",
       "      <td>2017.0</td>\n",
       "      <td>1.0</td>\n",
       "      <td>1.0</td>\n",
       "      <td>3.0</td>\n",
       "      <td>2.8</td>\n",
       "      <td>92.0</td>\n",
       "      <td>7.2</td>\n",
       "      <td>0.0</td>\n",
       "      <td>0.0</td>\n",
       "      <td>-12.381234</td>\n",
       "      <td>-16.323213</td>\n",
       "      <td>-16.323213</td>\n",
       "      <td>0.0</td>\n",
       "      <td>NaN</td>\n",
       "      <td>NaN</td>\n",
       "      <td>1.0</td>\n",
       "    </tr>\n",
       "    <tr>\n",
       "      <th>1/1/2000 5:00</th>\n",
       "      <td>2017.0</td>\n",
       "      <td>1.0</td>\n",
       "      <td>1.0</td>\n",
       "      <td>4.0</td>\n",
       "      <td>2.8</td>\n",
       "      <td>92.0</td>\n",
       "      <td>7.7</td>\n",
       "      <td>0.0</td>\n",
       "      <td>0.0</td>\n",
       "      <td>-13.423521</td>\n",
       "      <td>-17.330211</td>\n",
       "      <td>-17.330211</td>\n",
       "      <td>0.0</td>\n",
       "      <td>NaN</td>\n",
       "      <td>NaN</td>\n",
       "      <td>1.0</td>\n",
       "    </tr>\n",
       "  </tbody>\n",
       "</table>\n",
       "</div>"
      ],
      "text/plain": [
       "                 Year  Month  Day  Hour  DBT  RelHum  WSp  Precipitation  \\\n",
       "DateTime                                                                   \n",
       "1/1/2000 0:00     NaN    NaN  NaN   NaN  NaN     NaN  NaN            NaN   \n",
       "1/1/2000 1:00  2017.0    1.0  1.0   0.0  3.9    89.0  6.2            0.0   \n",
       "1/1/2000 2:00  2017.0    1.0  1.0   1.0  3.9    89.0  6.2            0.0   \n",
       "1/1/2000 3:00  2017.0    1.0  1.0   2.0  2.8    92.0  6.2            0.0   \n",
       "1/1/2000 4:00  2017.0    1.0  1.0   3.0  2.8    92.0  7.2            0.0   \n",
       "1/1/2000 5:00  2017.0    1.0  1.0   4.0  2.8    92.0  7.7            0.0   \n",
       "\n",
       "               Elev   utcivar1   utcivar2   utcivar3  count  Dockability  \\\n",
       "DateTime                                                                   \n",
       "1/1/2000 0:00   NaN        NaN        NaN        NaN    NaN          NaN   \n",
       "1/1/2000 1:00   0.0  -8.483754 -12.490996 -12.490996    0.0          NaN   \n",
       "1/1/2000 2:00   0.0  -8.483754 -12.490996 -12.490996    0.0          NaN   \n",
       "1/1/2000 3:00   0.0 -10.088523 -14.110906 -14.110906    0.0          NaN   \n",
       "1/1/2000 4:00   0.0 -12.381234 -16.323213 -16.323213    0.0          NaN   \n",
       "1/1/2000 5:00   0.0 -13.423521 -17.330211 -17.330211    0.0          NaN   \n",
       "\n",
       "               Releasability  specialdate  \n",
       "DateTime                                   \n",
       "1/1/2000 0:00            NaN          NaN  \n",
       "1/1/2000 1:00            NaN          1.0  \n",
       "1/1/2000 2:00            NaN          1.0  \n",
       "1/1/2000 3:00            NaN          1.0  \n",
       "1/1/2000 4:00            NaN          1.0  \n",
       "1/1/2000 5:00            NaN          1.0  "
      ]
     },
     "execution_count": 12,
     "metadata": {},
     "output_type": "execute_result"
    }
   ],
   "source": [
    "# Attempting to create lag variable\n",
    "test.set_index([\"DateTime\"]).shift(1).head(6)"
   ]
  },
  {
   "cell_type": "markdown",
   "metadata": {},
   "source": [
    "Modeling Decisons:\n",
    "Bin rain into low medium high categorical variable\n",
    "Drop Jan / Feb data because of construction \n",
    "DBT appears pretty correlated with all UTCs, maybe unnesscary "
   ]
  }
 ],
 "metadata": {
  "kernelspec": {
   "display_name": "cs109a",
   "language": "python",
   "name": "cs109a"
  },
  "language_info": {
   "codemirror_mode": {
    "name": "ipython",
    "version": 3
   },
   "file_extension": ".py",
   "mimetype": "text/x-python",
   "name": "python",
   "nbconvert_exporter": "python",
   "pygments_lexer": "ipython3",
   "version": "3.7.8"
  }
 },
 "nbformat": 4,
 "nbformat_minor": 2
}
